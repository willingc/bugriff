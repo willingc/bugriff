{
 "cells": [
  {
   "cell_type": "code",
   "execution_count": 1,
   "metadata": {
    "collapsed": true
   },
   "outputs": [],
   "source": [
    "import pandas as pd\n",
    "import numpy as np\n",
    "import matplotlib"
   ]
  },
  {
   "cell_type": "markdown",
   "metadata": {},
   "source": [
    "##Search used to create the csv data file\n",
    "\n",
    "http://bugs.python.org/issue?@columns=title,id,stage,creation,activity,type,components,status,creator&@sort=-activity&@filter=status,stage&@pagesize=1000&@startwith=0&status=1&stage=4&@dispname=ZeroPatchReview\n",
    "\n",
    "You can save an updated version by clicking \"save\" in the issue tracker."
   ]
  },
  {
   "cell_type": "code",
   "execution_count": 15,
   "metadata": {
    "collapsed": false
   },
   "outputs": [],
   "source": [
    "# Read the data from the csv file using pandas\n",
    "issues = pd.read_csv(\"patch_review.csv\")"
   ]
  },
  {
   "cell_type": "code",
   "execution_count": 16,
   "metadata": {
    "collapsed": false
   },
   "outputs": [
    {
     "data": {
      "text/html": [
       "<div>\n",
       "<table border=\"1\" class=\"dataframe\">\n",
       "  <thead>\n",
       "    <tr style=\"text-align: right;\">\n",
       "      <th></th>\n",
       "      <th>title</th>\n",
       "      <th>id</th>\n",
       "      <th>stage</th>\n",
       "      <th>creation</th>\n",
       "      <th>activity</th>\n",
       "      <th>type</th>\n",
       "      <th>components</th>\n",
       "      <th>status</th>\n",
       "      <th>creator</th>\n",
       "    </tr>\n",
       "  </thead>\n",
       "  <tbody>\n",
       "    <tr>\n",
       "      <th>0</th>\n",
       "      <td>rlcompleter: tab on empty prefix =&gt; insert spaces</td>\n",
       "      <td>23441</td>\n",
       "      <td>4</td>\n",
       "      <td>2015-02-11.10:21:44</td>\n",
       "      <td>2015-07-27.17:46:50</td>\n",
       "      <td>5</td>\n",
       "      <td>['9']</td>\n",
       "      <td>1</td>\n",
       "      <td>43</td>\n",
       "    </tr>\n",
       "    <tr>\n",
       "      <th>1</th>\n",
       "      <td>msvc9compiler.py: add .asm extension</td>\n",
       "      <td>7546</td>\n",
       "      <td>4</td>\n",
       "      <td>2009-12-19.16:44:04</td>\n",
       "      <td>2015-07-27.14:59:35</td>\n",
       "      <td>6</td>\n",
       "      <td>['3']</td>\n",
       "      <td>1</td>\n",
       "      <td>11089</td>\n",
       "    </tr>\n",
       "    <tr>\n",
       "      <th>2</th>\n",
       "      <td>Clean up/refactor/make discoverable test_decimal</td>\n",
       "      <td>20008</td>\n",
       "      <td>4</td>\n",
       "      <td>2013-12-17.21:24:31</td>\n",
       "      <td>2015-07-27.14:10:35</td>\n",
       "      <td>6</td>\n",
       "      <td>['12']</td>\n",
       "      <td>1</td>\n",
       "      <td>15467</td>\n",
       "    </tr>\n",
       "    <tr>\n",
       "      <th>3</th>\n",
       "      <td>Tighten definition of bytes-like objects</td>\n",
       "      <td>23756</td>\n",
       "      <td>4</td>\n",
       "      <td>2015-03-24.08:25:17</td>\n",
       "      <td>2015-07-27.12:36:46</td>\n",
       "      <td>6</td>\n",
       "      <td>['4']</td>\n",
       "      <td>1</td>\n",
       "      <td>14751</td>\n",
       "    </tr>\n",
       "    <tr>\n",
       "      <th>4</th>\n",
       "      <td>Invalid access in combinations_with_replacement()</td>\n",
       "      <td>24735</td>\n",
       "      <td>4</td>\n",
       "      <td>2015-07-27.11:19:58</td>\n",
       "      <td>2015-07-27.12:06:44</td>\n",
       "      <td>5</td>\n",
       "      <td>['5']</td>\n",
       "      <td>1</td>\n",
       "      <td>11089</td>\n",
       "    </tr>\n",
       "  </tbody>\n",
       "</table>\n",
       "</div>"
      ],
      "text/plain": [
       "                                               title     id  stage  \\\n",
       "0  rlcompleter: tab on empty prefix => insert spaces  23441      4   \n",
       "1               msvc9compiler.py: add .asm extension   7546      4   \n",
       "2   Clean up/refactor/make discoverable test_decimal  20008      4   \n",
       "3           Tighten definition of bytes-like objects  23756      4   \n",
       "4  Invalid access in combinations_with_replacement()  24735      4   \n",
       "\n",
       "              creation             activity type components  status  creator  \n",
       "0  2015-02-11.10:21:44  2015-07-27.17:46:50    5      ['9']       1       43  \n",
       "1  2009-12-19.16:44:04  2015-07-27.14:59:35    6      ['3']       1    11089  \n",
       "2  2013-12-17.21:24:31  2015-07-27.14:10:35    6     ['12']       1    15467  \n",
       "3  2015-03-24.08:25:17  2015-07-27.12:36:46    6      ['4']       1    14751  \n",
       "4  2015-07-27.11:19:58  2015-07-27.12:06:44    5      ['5']       1    11089  "
      ]
     },
     "execution_count": 16,
     "metadata": {},
     "output_type": "execute_result"
    }
   ],
   "source": [
    "# Display the first 5 issues\n",
    "issues.head()"
   ]
  },
  {
   "cell_type": "code",
   "execution_count": 27,
   "metadata": {
    "collapsed": false
   },
   "outputs": [
    {
     "name": "stdout",
     "output_type": "stream",
     "text": [
      "Number of issues with a patch:  939\n"
     ]
    }
   ],
   "source": [
    "# issues\n",
    "print(\"Number of issues with a patch: {0:4d}\".format(len(issues)))"
   ]
  },
  {
   "cell_type": "code",
   "execution_count": 7,
   "metadata": {
    "collapsed": false
   },
   "outputs": [
    {
     "data": {
      "text/plain": [
       "3"
      ]
     },
     "execution_count": 7,
     "metadata": {},
     "output_type": "execute_result"
    }
   ],
   "source": [
    "#before 2011\n",
    "i = issues\n",
    "len(i[(i.activity <= '2011-01-01')])"
   ]
  },
  {
   "cell_type": "code",
   "execution_count": 8,
   "metadata": {
    "collapsed": false
   },
   "outputs": [
    {
     "data": {
      "text/plain": [
       "25"
      ]
     },
     "execution_count": 8,
     "metadata": {},
     "output_type": "execute_result"
    }
   ],
   "source": [
    "# 2011\n",
    "i = issues\n",
    "len(i[((i.activity <= '2012-01-01') & (i.activity > '2011-01-01'))])"
   ]
  },
  {
   "cell_type": "code",
   "execution_count": 9,
   "metadata": {
    "collapsed": false
   },
   "outputs": [
    {
     "data": {
      "text/plain": [
       "66"
      ]
     },
     "execution_count": 9,
     "metadata": {},
     "output_type": "execute_result"
    }
   ],
   "source": [
    "# 2012\n",
    "i = issues\n",
    "len(i[(i.activity <= '2013-01-01') & (i.activity > '2012-01-01')])"
   ]
  },
  {
   "cell_type": "code",
   "execution_count": 22,
   "metadata": {
    "collapsed": false
   },
   "outputs": [
    {
     "data": {
      "text/plain": [
       "721"
      ]
     },
     "execution_count": 22,
     "metadata": {},
     "output_type": "execute_result"
    }
   ],
   "source": [
    "# 2013\n",
    "i = issues\n",
    "len(i[(i.activity <= '2014-01-01') & (i.activity > '2013-01-01')])"
   ]
  },
  {
   "cell_type": "code",
   "execution_count": 10,
   "metadata": {
    "collapsed": false
   },
   "outputs": [
    {
     "data": {
      "text/plain": [
       "366"
      ]
     },
     "execution_count": 10,
     "metadata": {},
     "output_type": "execute_result"
    }
   ],
   "source": [
    "# 2014\n",
    "i = issues\n",
    "len(i[(i.activity <= '2015-01-01') & (i.activity > '2014-01-01')])"
   ]
  },
  {
   "cell_type": "code",
   "execution_count": 11,
   "metadata": {
    "collapsed": false
   },
   "outputs": [
    {
     "data": {
      "text/plain": [
       "343"
      ]
     },
     "execution_count": 11,
     "metadata": {},
     "output_type": "execute_result"
    }
   ],
   "source": [
    "# 2015 so far\n",
    "i = issues\n",
    "len(i[(i.activity > '2015-01-01')])"
   ]
  },
  {
   "cell_type": "code",
   "execution_count": 12,
   "metadata": {
    "collapsed": false
   },
   "outputs": [
    {
     "data": {
      "text/plain": [
       "343"
      ]
     },
     "execution_count": 12,
     "metadata": {},
     "output_type": "execute_result"
    }
   ],
   "source": [
    "# 2015 so far\n",
    "i = issues\n",
    "thisyear = i[(i.activity > '2015-01-01')]\n",
    "len(thisyear)\n"
   ]
  },
  {
   "cell_type": "code",
   "execution_count": 14,
   "metadata": {
    "collapsed": false
   },
   "outputs": [
    {
     "data": {
      "text/html": [
       "<div>\n",
       "<table border=\"1\" class=\"dataframe\">\n",
       "  <thead>\n",
       "    <tr style=\"text-align: right;\">\n",
       "      <th></th>\n",
       "      <th>title</th>\n",
       "      <th>id</th>\n",
       "      <th>stage</th>\n",
       "      <th>creation</th>\n",
       "      <th>activity</th>\n",
       "      <th>type</th>\n",
       "      <th>components</th>\n",
       "      <th>status</th>\n",
       "      <th>creator</th>\n",
       "    </tr>\n",
       "  </thead>\n",
       "  <tbody>\n",
       "    <tr>\n",
       "      <th>0</th>\n",
       "      <td>rlcompleter: tab on empty prefix =&gt; insert spaces</td>\n",
       "      <td>23441</td>\n",
       "      <td>4</td>\n",
       "      <td>2015-02-11.10:21:44</td>\n",
       "      <td>2015-07-27.17:46:50</td>\n",
       "      <td>5</td>\n",
       "      <td>['9']</td>\n",
       "      <td>1</td>\n",
       "      <td>43</td>\n",
       "    </tr>\n",
       "    <tr>\n",
       "      <th>1</th>\n",
       "      <td>msvc9compiler.py: add .asm extension</td>\n",
       "      <td>7546</td>\n",
       "      <td>4</td>\n",
       "      <td>2009-12-19.16:44:04</td>\n",
       "      <td>2015-07-27.14:59:35</td>\n",
       "      <td>6</td>\n",
       "      <td>['3']</td>\n",
       "      <td>1</td>\n",
       "      <td>11089</td>\n",
       "    </tr>\n",
       "    <tr>\n",
       "      <th>2</th>\n",
       "      <td>Clean up/refactor/make discoverable test_decimal</td>\n",
       "      <td>20008</td>\n",
       "      <td>4</td>\n",
       "      <td>2013-12-17.21:24:31</td>\n",
       "      <td>2015-07-27.14:10:35</td>\n",
       "      <td>6</td>\n",
       "      <td>['12']</td>\n",
       "      <td>1</td>\n",
       "      <td>15467</td>\n",
       "    </tr>\n",
       "    <tr>\n",
       "      <th>3</th>\n",
       "      <td>Tighten definition of bytes-like objects</td>\n",
       "      <td>23756</td>\n",
       "      <td>4</td>\n",
       "      <td>2015-03-24.08:25:17</td>\n",
       "      <td>2015-07-27.12:36:46</td>\n",
       "      <td>6</td>\n",
       "      <td>['4']</td>\n",
       "      <td>1</td>\n",
       "      <td>14751</td>\n",
       "    </tr>\n",
       "    <tr>\n",
       "      <th>4</th>\n",
       "      <td>Invalid access in combinations_with_replacement()</td>\n",
       "      <td>24735</td>\n",
       "      <td>4</td>\n",
       "      <td>2015-07-27.11:19:58</td>\n",
       "      <td>2015-07-27.12:06:44</td>\n",
       "      <td>5</td>\n",
       "      <td>['5']</td>\n",
       "      <td>1</td>\n",
       "      <td>11089</td>\n",
       "    </tr>\n",
       "  </tbody>\n",
       "</table>\n",
       "</div>"
      ],
      "text/plain": [
       "                                               title     id  stage  \\\n",
       "0  rlcompleter: tab on empty prefix => insert spaces  23441      4   \n",
       "1               msvc9compiler.py: add .asm extension   7546      4   \n",
       "2   Clean up/refactor/make discoverable test_decimal  20008      4   \n",
       "3           Tighten definition of bytes-like objects  23756      4   \n",
       "4  Invalid access in combinations_with_replacement()  24735      4   \n",
       "\n",
       "              creation             activity type components  status  creator  \n",
       "0  2015-02-11.10:21:44  2015-07-27.17:46:50    5      ['9']       1       43  \n",
       "1  2009-12-19.16:44:04  2015-07-27.14:59:35    6      ['3']       1    11089  \n",
       "2  2013-12-17.21:24:31  2015-07-27.14:10:35    6     ['12']       1    15467  \n",
       "3  2015-03-24.08:25:17  2015-07-27.12:36:46    6      ['4']       1    14751  \n",
       "4  2015-07-27.11:19:58  2015-07-27.12:06:44    5      ['5']       1    11089  "
      ]
     },
     "execution_count": 14,
     "metadata": {},
     "output_type": "execute_result"
    }
   ],
   "source": [
    "thisyear.head()"
   ]
  },
  {
   "cell_type": "code",
   "execution_count": 29,
   "metadata": {
    "collapsed": false
   },
   "outputs": [
    {
     "data": {
      "text/plain": [
       "718"
      ]
     },
     "execution_count": 29,
     "metadata": {},
     "output_type": "execute_result"
    }
   ],
   "source": [
    "# 2014 created\n",
    "t = thisyear\n",
    "len(t[t.creation > '2015-01-01'])"
   ]
  },
  {
   "cell_type": "code",
   "execution_count": 28,
   "metadata": {
    "collapsed": false
   },
   "outputs": [
    {
     "data": {
      "text/plain": [
       "316"
      ]
     },
     "execution_count": 28,
     "metadata": {},
     "output_type": "execute_result"
    }
   ],
   "source": [
    "# 2014 created\n",
    "t = thisyear\n",
    "len(t[(t.creation <= '2015-01-01') & (t.creation > '2014-01-01')])"
   ]
  },
  {
   "cell_type": "code",
   "execution_count": 30,
   "metadata": {
    "collapsed": false
   },
   "outputs": [
    {
     "data": {
      "text/plain": [
       "170"
      ]
     },
     "execution_count": 30,
     "metadata": {},
     "output_type": "execute_result"
    }
   ],
   "source": [
    "# 2013 created\n",
    "t = thisyear\n",
    "len(t[(t.creation <= '2014-01-01') & (t.creation > '2013-01-01')])"
   ]
  },
  {
   "cell_type": "code",
   "execution_count": 31,
   "metadata": {
    "collapsed": false
   },
   "outputs": [
    {
     "data": {
      "text/plain": [
       "100"
      ]
     },
     "execution_count": 31,
     "metadata": {},
     "output_type": "execute_result"
    }
   ],
   "source": [
    "# 2012 created\n",
    "t = thisyear\n",
    "len(t[(t.creation <= '2013-01-01') & (t.creation > '2012-01-01')])"
   ]
  },
  {
   "cell_type": "code",
   "execution_count": 32,
   "metadata": {
    "collapsed": false
   },
   "outputs": [
    {
     "data": {
      "text/plain": [
       "78"
      ]
     },
     "execution_count": 32,
     "metadata": {},
     "output_type": "execute_result"
    }
   ],
   "source": [
    "# 2011 created\n",
    "t = thisyear\n",
    "len(t[(t.creation <= '2012-01-01') & (t.creation > '2011-01-01')])"
   ]
  },
  {
   "cell_type": "code",
   "execution_count": 33,
   "metadata": {
    "collapsed": false
   },
   "outputs": [
    {
     "data": {
      "text/plain": [
       "74"
      ]
     },
     "execution_count": 33,
     "metadata": {},
     "output_type": "execute_result"
    }
   ],
   "source": [
    "# 2010 created\n",
    "t = thisyear\n",
    "len(t[(t.creation <= '2011-01-01') & (t.creation > '2010-01-01')])"
   ]
  },
  {
   "cell_type": "code",
   "execution_count": 34,
   "metadata": {
    "collapsed": false
   },
   "outputs": [
    {
     "data": {
      "text/plain": [
       "119"
      ]
     },
     "execution_count": 34,
     "metadata": {},
     "output_type": "execute_result"
    }
   ],
   "source": [
    "# Pre-2010 created\n",
    "t = thisyear\n",
    "len(t[t.creation <= '2010-01-01'])"
   ]
  },
  {
   "cell_type": "code",
   "execution_count": 35,
   "metadata": {
    "collapsed": false
   },
   "outputs": [
    {
     "data": {
      "text/plain": [
       "1575"
      ]
     },
     "execution_count": 35,
     "metadata": {},
     "output_type": "execute_result"
    }
   ],
   "source": [
    "119+74+78+100+170+316+718"
   ]
  },
  {
   "cell_type": "code",
   "execution_count": null,
   "metadata": {
    "collapsed": true
   },
   "outputs": [],
   "source": []
  },
  {
   "cell_type": "code",
   "execution_count": null,
   "metadata": {
    "collapsed": true
   },
   "outputs": [],
   "source": []
  }
 ],
 "metadata": {
  "kernelspec": {
   "display_name": "Python 3",
   "language": "python",
   "name": "python3"
  },
  "language_info": {
   "codemirror_mode": {
    "name": "ipython",
    "version": 3
   },
   "file_extension": ".py",
   "mimetype": "text/x-python",
   "name": "python",
   "nbconvert_exporter": "python",
   "pygments_lexer": "ipython3",
   "version": "3.4.3"
  }
 },
 "nbformat": 4,
 "nbformat_minor": 0
}
